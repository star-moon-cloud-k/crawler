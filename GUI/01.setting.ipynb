{
 "cells": [
  {
   "cell_type": "code",
   "execution_count": 1,
   "metadata": {},
   "outputs": [
    {
     "name": "stdout",
     "output_type": "stream",
     "text": [
      "Requirement already satisfied: pyside6 in /opt/homebrew/anaconda3/lib/python3.9/site-packages (6.7.3)\n",
      "Requirement already satisfied: PySide6-Addons==6.7.3 in /opt/homebrew/anaconda3/lib/python3.9/site-packages (from pyside6) (6.7.3)\n",
      "Requirement already satisfied: shiboken6==6.7.3 in /opt/homebrew/anaconda3/lib/python3.9/site-packages (from pyside6) (6.7.3)\n",
      "Requirement already satisfied: PySide6-Essentials==6.7.3 in /opt/homebrew/anaconda3/lib/python3.9/site-packages (from pyside6) (6.7.3)\n",
      "Note: you may need to restart the kernel to use updated packages.\n"
     ]
    }
   ],
   "source": [
    "#pip install pyside6"
   ]
  },
  {
   "cell_type": "markdown",
   "metadata": {},
   "source": [
    "```sh\n",
    "pyuic6-uic <path_to_ui_file> -o <output_py_file>\n",
    "```\n",
    "위 명령어로 만들어낸 파일을 python 파일로 변환한다."
   ]
  },
  {
   "cell_type": "code",
   "execution_count": null,
   "metadata": {},
   "outputs": [],
   "source": []
  }
 ],
 "metadata": {
  "kernelspec": {
   "display_name": "base",
   "language": "python",
   "name": "python3"
  },
  "language_info": {
   "codemirror_mode": {
    "name": "ipython",
    "version": 3
   },
   "file_extension": ".py",
   "mimetype": "text/x-python",
   "name": "python",
   "nbconvert_exporter": "python",
   "pygments_lexer": "ipython3",
   "version": "3.9.12"
  }
 },
 "nbformat": 4,
 "nbformat_minor": 2
}
