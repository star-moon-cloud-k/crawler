{
 "cells": [
  {
   "cell_type": "code",
   "execution_count": 1,
   "metadata": {},
   "outputs": [],
   "source": [
    "from selenium import webdriver\n",
    "from selenium.webdriver.common.by import By\n",
    "from selenium.webdriver.common.keys import Keys\n",
    "from bs4 import BeautifulSoup\n",
    "import time\n",
    "\n",
    "#동적 페이지 접근\n",
    "driver =webdriver.Chrome()"
   ]
  },
  {
   "cell_type": "code",
   "execution_count": 21,
   "metadata": {},
   "outputs": [],
   "source": [
    "driver.get('https://cafe.naver.com/startcodingofficial')"
   ]
  },
  {
   "cell_type": "code",
   "execution_count": 22,
   "metadata": {},
   "outputs": [],
   "source": [
    "driver.find_element(By.CSS_SELECTOR, '#menuLink15').click()"
   ]
  },
  {
   "cell_type": "code",
   "execution_count": 23,
   "metadata": {},
   "outputs": [],
   "source": [
    "iframe = driver.find_element(By.CSS_SELECTOR, '#cafe_main')\n",
    "driver.switch_to.frame(iframe)"
   ]
  },
  {
   "cell_type": "code",
   "execution_count": 25,
   "metadata": {},
   "outputs": [],
   "source": [
    "driver.find_element(By.CSS_SELECTOR, '#listSizeSelectDiv > a').click()"
   ]
  },
  {
   "cell_type": "code",
   "execution_count": 27,
   "metadata": {},
   "outputs": [],
   "source": [
    "select_50 =driver.find_element(By.CSS_SELECTOR, '#listSizeSelectDiv > ul > li:nth-child(7) > a')"
   ]
  },
  {
   "cell_type": "code",
   "execution_count": null,
   "metadata": {},
   "outputs": [],
   "source": [
    "select_50.click()"
   ]
  },
  {
   "cell_type": "code",
   "execution_count": 28,
   "metadata": {},
   "outputs": [],
   "source": [
    "#js 를 이용한 태그 클릭\n",
    "driver.execute_script('arguments[0].click()', select_50)\n"
   ]
  },
  {
   "cell_type": "code",
   "execution_count": 34,
   "metadata": {},
   "outputs": [
    {
     "name": "stdout",
     "output_type": "stream",
     "text": [
      "안녕하세요! 갓 전역한 개발자 지망생입니다. https://cafe.naver.com/ArticleRead.nhn?clubid=31023030&page=1&userDisplay=50&menuid=15&boardtype=L&articleid=1094&referrerAllArticles=false\n",
      "안녕하세요 https://cafe.naver.com/ArticleRead.nhn?clubid=31023030&page=1&userDisplay=50&menuid=15&boardtype=L&articleid=1092&referrerAllArticles=false\n",
      "안녕하세요! 기대가 됩니다 https://cafe.naver.com/ArticleRead.nhn?clubid=31023030&page=1&userDisplay=50&menuid=15&boardtype=L&articleid=1090&referrerAllArticles=false\n",
      "유튜브 영상 후기 작성합니다! https://cafe.naver.com/ArticleRead.nhn?clubid=31023030&page=1&userDisplay=50&menuid=15&boardtype=L&articleid=1088&referrerAllArticles=false\n",
      "안녕하세요 https://cafe.naver.com/ArticleRead.nhn?clubid=31023030&page=1&userDisplay=50&menuid=15&boardtype=L&articleid=1083&referrerAllArticles=false\n",
      "미래를 위한 투자! 크롤링 강의 후기 https://cafe.naver.com/ArticleRead.nhn?clubid=31023030&page=1&userDisplay=50&menuid=15&boardtype=L&articleid=1080&referrerAllArticles=false\n",
      "유튜브 후기 작성합니다 ㅎㅎ https://cafe.naver.com/ArticleRead.nhn?clubid=31023030&page=1&userDisplay=50&menuid=15&boardtype=L&articleid=1075&referrerAllArticles=false\n",
      "유튜브 후기입니다! https://cafe.naver.com/ArticleRead.nhn?clubid=31023030&page=1&userDisplay=50&menuid=15&boardtype=L&articleid=1074&referrerAllArticles=false\n",
      "파이썬 처음 배우는 60대 입니다 https://cafe.naver.com/ArticleRead.nhn?clubid=31023030&page=1&userDisplay=50&menuid=15&boardtype=L&articleid=1072&referrerAllArticles=false\n",
      "비전공자에게 희망을 https://cafe.naver.com/ArticleRead.nhn?clubid=31023030&page=1&userDisplay=50&menuid=15&boardtype=L&articleid=1070&referrerAllArticles=false\n",
      "유튜브 후기입니다. https://cafe.naver.com/ArticleRead.nhn?clubid=31023030&page=1&userDisplay=50&menuid=15&boardtype=L&articleid=1068&referrerAllArticles=false\n",
      "유튜브 후기! 앞으로 잘 부탁드립니다. https://cafe.naver.com/ArticleRead.nhn?clubid=31023030&page=1&userDisplay=50&menuid=15&boardtype=L&articleid=1065&referrerAllArticles=false\n",
      "처음하는 사람도 따라할 수 있어서 너무 좋았습니다. https://cafe.naver.com/ArticleRead.nhn?clubid=31023030&page=1&userDisplay=50&menuid=15&boardtype=L&articleid=1064&referrerAllArticles=false\n",
      "셀리니움 배우기 전에 정적 웹크롤링 보고 감동 받아 달려옴.. https://cafe.naver.com/ArticleRead.nhn?clubid=31023030&page=1&userDisplay=50&menuid=15&boardtype=L&articleid=1063&referrerAllArticles=false\n",
      "파이썬으로 다시한번 점프! https://cafe.naver.com/ArticleRead.nhn?clubid=31023030&page=1&userDisplay=50&menuid=15&boardtype=L&articleid=1061&referrerAllArticles=false\n",
      "유튜브 후기입니다 !! https://cafe.naver.com/ArticleRead.nhn?clubid=31023030&page=1&userDisplay=50&menuid=15&boardtype=L&articleid=1059&referrerAllArticles=false\n",
      "유튜브 후기 입니다. https://cafe.naver.com/ArticleRead.nhn?clubid=31023030&page=1&userDisplay=50&menuid=15&boardtype=L&articleid=1057&referrerAllArticles=false\n",
      "유튜브 후기입니다. https://cafe.naver.com/ArticleRead.nhn?clubid=31023030&page=1&userDisplay=50&menuid=15&boardtype=L&articleid=1056&referrerAllArticles=false\n",
      "유투브 후기 입니다 https://cafe.naver.com/ArticleRead.nhn?clubid=31023030&page=1&userDisplay=50&menuid=15&boardtype=L&articleid=1054&referrerAllArticles=false\n",
      "유튜브 후기 입니다! https://cafe.naver.com/ArticleRead.nhn?clubid=31023030&page=1&userDisplay=50&menuid=15&boardtype=L&articleid=1051&referrerAllArticles=false\n",
      "유투브 후기입니다! https://cafe.naver.com/ArticleRead.nhn?clubid=31023030&page=1&userDisplay=50&menuid=15&boardtype=L&articleid=1048&referrerAllArticles=false\n",
      "유튜브 후기 입니다~!! https://cafe.naver.com/ArticleRead.nhn?clubid=31023030&page=1&userDisplay=50&menuid=15&boardtype=L&articleid=1047&referrerAllArticles=false\n",
      "유투브 후기입니다 https://cafe.naver.com/ArticleRead.nhn?clubid=31023030&page=1&userDisplay=50&menuid=15&boardtype=L&articleid=1045&referrerAllArticles=false\n",
      "가입인사 드립니다. https://cafe.naver.com/ArticleRead.nhn?clubid=31023030&page=1&userDisplay=50&menuid=15&boardtype=L&articleid=1034&referrerAllArticles=false\n",
      "웹크롤링 비법대공개! 무작정따라하기 성공 ㅠ_ㅠ https://cafe.naver.com/ArticleRead.nhn?clubid=31023030&page=1&userDisplay=50&menuid=15&boardtype=L&articleid=1033&referrerAllArticles=false\n",
      "안녕하세요. https://cafe.naver.com/ArticleRead.nhn?clubid=31023030&page=1&userDisplay=50&menuid=15&boardtype=L&articleid=1030&referrerAllArticles=false\n",
      "유튜브 리얼 후기입니다 https://cafe.naver.com/ArticleRead.nhn?clubid=31023030&page=1&userDisplay=50&menuid=15&boardtype=L&articleid=1027&referrerAllArticles=false\n",
      "후기 올립니다 https://cafe.naver.com/ArticleRead.nhn?clubid=31023030&page=1&userDisplay=50&menuid=15&boardtype=L&articleid=1025&referrerAllArticles=false\n",
      "유튜브 후기입니다 ! https://cafe.naver.com/ArticleRead.nhn?clubid=31023030&page=1&userDisplay=50&menuid=15&boardtype=L&articleid=1023&referrerAllArticles=false\n",
      "유튜브 후기입니다 https://cafe.naver.com/ArticleRead.nhn?clubid=31023030&page=1&userDisplay=50&menuid=15&boardtype=L&articleid=1010&referrerAllArticles=false\n",
      "스타트코딩 유튜브 후기입니다^^ https://cafe.naver.com/ArticleRead.nhn?clubid=31023030&page=1&userDisplay=50&menuid=15&boardtype=L&articleid=1003&referrerAllArticles=false\n",
      "유튜브 후기입니다. https://cafe.naver.com/ArticleRead.nhn?clubid=31023030&page=1&userDisplay=50&menuid=15&boardtype=L&articleid=1001&referrerAllArticles=false\n",
      "한번 알면 평생 쓰는 코딩 기술 ‘파이썬’ 대공략집 후기입니다. https://cafe.naver.com/ArticleRead.nhn?clubid=31023030&page=1&userDisplay=50&menuid=15&boardtype=L&articleid=1000&referrerAllArticles=false\n",
      "유튜브 후기입니다! https://cafe.naver.com/ArticleRead.nhn?clubid=31023030&page=1&userDisplay=50&menuid=15&boardtype=L&articleid=994&referrerAllArticles=false\n",
      "유튜브 후기 남깁니다. https://cafe.naver.com/ArticleRead.nhn?clubid=31023030&page=1&userDisplay=50&menuid=15&boardtype=L&articleid=991&referrerAllArticles=false\n",
      "유튜브 영상 후기 입니다. https://cafe.naver.com/ArticleRead.nhn?clubid=31023030&page=1&userDisplay=50&menuid=15&boardtype=L&articleid=990&referrerAllArticles=false\n",
      "유튜브 영상 후기 https://cafe.naver.com/ArticleRead.nhn?clubid=31023030&page=1&userDisplay=50&menuid=15&boardtype=L&articleid=989&referrerAllArticles=false\n",
      "유튜버 후기 입니다. https://cafe.naver.com/ArticleRead.nhn?clubid=31023030&page=1&userDisplay=50&menuid=15&boardtype=L&articleid=986&referrerAllArticles=false\n",
      "유튜브후기입니다. https://cafe.naver.com/ArticleRead.nhn?clubid=31023030&page=1&userDisplay=50&menuid=15&boardtype=L&articleid=984&referrerAllArticles=false\n",
      "강의 후기입니다^^ https://cafe.naver.com/ArticleRead.nhn?clubid=31023030&page=1&userDisplay=50&menuid=15&boardtype=L&articleid=983&referrerAllArticles=false\n",
      "웹 크롤링 영상 후기입니다. https://cafe.naver.com/ArticleRead.nhn?clubid=31023030&page=1&userDisplay=50&menuid=15&boardtype=L&articleid=981&referrerAllArticles=false\n",
      "반복되는 작업을 어떻게 하면 줄일 수 있을까에 골몰하다가 왔습니다! https://cafe.naver.com/ArticleRead.nhn?clubid=31023030&page=1&userDisplay=50&menuid=15&boardtype=L&articleid=980&referrerAllArticles=false\n",
      "웹크롤링 비법 대공개! 데이터 수집 기초부터 ~ 영상 후기입니다. https://cafe.naver.com/ArticleRead.nhn?clubid=31023030&page=1&userDisplay=50&menuid=15&boardtype=L&articleid=976&referrerAllArticles=false\n",
      "강의 마지막부분에 소개된 링크를 통해 찾아왔습니다. https://cafe.naver.com/ArticleRead.nhn?clubid=31023030&page=1&userDisplay=50&menuid=15&boardtype=L&articleid=973&referrerAllArticles=false\n",
      "웹크롤링 강의 후기 https://cafe.naver.com/ArticleRead.nhn?clubid=31023030&page=1&userDisplay=50&menuid=15&boardtype=L&articleid=969&referrerAllArticles=false\n",
      "유튜브보고 카페로 달려왔습니다! https://cafe.naver.com/ArticleRead.nhn?clubid=31023030&page=1&userDisplay=50&menuid=15&boardtype=L&articleid=967&referrerAllArticles=false\n",
      "유튜브에서 동영상 강의 보고 후기 납깁니다. https://cafe.naver.com/ArticleRead.nhn?clubid=31023030&page=1&userDisplay=50&menuid=15&boardtype=L&articleid=957&referrerAllArticles=false\n",
      "유튜브 후기 https://cafe.naver.com/ArticleRead.nhn?clubid=31023030&page=1&userDisplay=50&menuid=15&boardtype=L&articleid=955&referrerAllArticles=false\n",
      "유튜부 후기입니다! https://cafe.naver.com/ArticleRead.nhn?clubid=31023030&page=1&userDisplay=50&menuid=15&boardtype=L&articleid=950&referrerAllArticles=false\n",
      "후기 올립니다. https://cafe.naver.com/ArticleRead.nhn?clubid=31023030&page=1&userDisplay=50&menuid=15&boardtype=L&articleid=945&referrerAllArticles=false\n"
     ]
    }
   ],
   "source": [
    "#글 목록 추출\n",
    "#not() 연산자 사용\n",
    "posts = driver.find_elements(By.CSS_SELECTOR, '.article-board.m-tcol-c:not(#upperArticleList) .article')\n",
    "\n",
    "for post in posts:\n",
    "    title = post.text\n",
    "    link = post.get_attribute('href')\n",
    "    print(title, link)"
   ]
  },
  {
   "cell_type": "code",
   "execution_count": null,
   "metadata": {},
   "outputs": [],
   "source": []
  }
 ],
 "metadata": {
  "kernelspec": {
   "display_name": "base",
   "language": "python",
   "name": "python3"
  },
  "language_info": {
   "codemirror_mode": {
    "name": "ipython",
    "version": 3
   },
   "file_extension": ".py",
   "mimetype": "text/x-python",
   "name": "python",
   "nbconvert_exporter": "python",
   "pygments_lexer": "ipython3",
   "version": "3.9.12"
  }
 },
 "nbformat": 4,
 "nbformat_minor": 2
}
