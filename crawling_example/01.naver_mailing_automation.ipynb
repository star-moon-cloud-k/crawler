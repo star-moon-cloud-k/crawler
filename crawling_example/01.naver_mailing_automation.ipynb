{
 "cells": [
  {
   "cell_type": "code",
   "execution_count": 1,
   "metadata": {},
   "outputs": [],
   "source": [
    "user_id = ''\n",
    "user_pw = ''"
   ]
  },
  {
   "cell_type": "code",
   "execution_count": 5,
   "metadata": {},
   "outputs": [],
   "source": [
    "from selenium import webdriver\n",
    "from selenium.webdriver.common.by import By\n",
    "from selenium.webdriver.common.keys import Keys\n",
    "import time\n",
    "driver =webdriver.Chrome()\n",
    "driver.get('https://nid.naver.com/nidlogin.login?mode=form&url=https://www.naver.com/')"
   ]
  },
  {
   "cell_type": "code",
   "execution_count": 3,
   "metadata": {},
   "outputs": [],
   "source": [
    "time.sleep(1)\n",
    "\n",
    "id = driver.find_element(By.CSS_SELECTOR, '#id')\n",
    "id.send_keys(user_id)\n",
    "\n",
    "time.sleep(1)\n",
    "\n",
    "pw = driver.find_element(By.CSS_SELECTOR, '#pw')\n",
    "pw.send_keys(user_pw)\n",
    "\n",
    "time.sleep(1)\n",
    "\n",
    "driver.find_element(By.CSS_SELECTOR, '#log\\.login').click()"
   ]
  },
  {
   "cell_type": "code",
   "execution_count": 4,
   "metadata": {},
   "outputs": [
    {
     "name": "stdout",
     "output_type": "stream",
     "text": [
      "Collecting pyperclip\n",
      "  Downloading pyperclip-1.9.0.tar.gz (20 kB)\n",
      "Building wheels for collected packages: pyperclip\n",
      "  Building wheel for pyperclip (setup.py) ... \u001b[?25ldone\n",
      "\u001b[?25h  Created wheel for pyperclip: filename=pyperclip-1.9.0-py3-none-any.whl size=11014 sha256=2ee37516d075b6d54a7dde32ab1824a5d8df4899d88a17c7b51e310025d98b23\n",
      "  Stored in directory: /Users/k/Library/Caches/pip/wheels/b2/12/87/f136269baa23c0afc652d05f3bd48834f4f6658b42365036c7\n",
      "Successfully built pyperclip\n",
      "Installing collected packages: pyperclip\n",
      "Successfully installed pyperclip-1.9.0\n",
      "Note: you may need to restart the kernel to use updated packages.\n"
     ]
    }
   ],
   "source": [
    "#pip install pyperclip\n",
    "#클립보드로 복사 붙여넣기로 입력하는 방식으로 우회"
   ]
  },
  {
   "cell_type": "code",
   "execution_count": 6,
   "metadata": {},
   "outputs": [],
   "source": [
    "import pyperclip\n",
    "\n",
    "time.sleep(1)\n",
    "\n",
    "id = driver.find_element(By.CSS_SELECTOR, '#id')\n",
    "pyperclip.copy(user_id)\n",
    "id.send_keys(Keys.COMMAND, 'v')\n",
    "\n",
    "time.sleep(1)\n",
    "\n",
    "pw = driver.find_element(By.CSS_SELECTOR, '#pw')\n",
    "pyperclip.copy(user_pw)\n",
    "pw.send_keys(Keys.COMMAND,'v')\n",
    "\n",
    "time.sleep(1)\n",
    "\n",
    "driver.find_element(By.CSS_SELECTOR, '#log\\.login').click()"
   ]
  },
  {
   "cell_type": "code",
   "execution_count": 7,
   "metadata": {},
   "outputs": [],
   "source": [
    "#드롭 다운 메뉴 클릭\n",
    "driver.find_element(By.CSS_SELECTOR, '#account > div.MyView-module__my_menu___eF24q > div > div > ul > li:nth-child(1) > a > span.MyView-module__item_text___VTQQM').click()"
   ]
  },
  {
   "cell_type": "code",
   "execution_count": 8,
   "metadata": {},
   "outputs": [],
   "source": [
    "#메일함 버튼 클릭\n",
    "driver.find_element(By.CSS_SELECTOR,'#account > div.MyView-module__layer_menu_service___NqMyX > div.MyView-module__service_sub___wix9p > div.MyView-module__sub_left___AIWHR > a').click()"
   ]
  },
  {
   "cell_type": "code",
   "execution_count": 10,
   "metadata": {},
   "outputs": [
    {
     "data": {
      "text/plain": [
       "['60492A36D7D4B4462661C830F94C79C2',\n",
       " 'E585F376522F39346E8F58332A0E6DC9',\n",
       " 'A9E2DE73A14DD085EEA2B4E624C4C3CF',\n",
       " '7158693EDBB8C09EFC71E1CB446CF74B']"
      ]
     },
     "execution_count": 10,
     "metadata": {},
     "output_type": "execute_result"
    }
   ],
   "source": [
    "#현재 열려있는 창\n",
    "driver.window_handles"
   ]
  },
  {
   "cell_type": "code",
   "execution_count": 13,
   "metadata": {},
   "outputs": [],
   "source": [
    "#새 창으로 전환\n",
    "driver.switch_to.window(driver.window_handles[2])"
   ]
  },
  {
   "cell_type": "code",
   "execution_count": 14,
   "metadata": {},
   "outputs": [],
   "source": [
    "#메일함 버튼 클릭\n",
    "driver.find_element(By.CSS_SELECTOR, '#root > div > nav > div > div.lnb_header > div.lnb_task > a.item.button_write').click()"
   ]
  },
  {
   "cell_type": "code",
   "execution_count": 16,
   "metadata": {},
   "outputs": [],
   "source": [
    "#주소 입력, 제목 입력\n",
    "address = driver.find_element(By.CSS_SELECTOR, '#recipient_input_element')\n",
    "title = driver.find_element(By.CSS_SELECTOR, '#subject_title')\n",
    "\n",
    "address.send_keys('kspecial44@gmail.com')\n",
    "title.send_keys('mailing test')"
   ]
  },
  {
   "cell_type": "code",
   "execution_count": 17,
   "metadata": {},
   "outputs": [],
   "source": [
    "#메일 내용 입력\n",
    "#iframe 변환 후 바디에 내용 보냄\n",
    "iframe = driver.find_element(By.CSS_SELECTOR, '#content > div.contents_area > div > div.editor_area > div > div.editor_body > iframe')\n",
    "driver.switch_to.frame(iframe)\n",
    "mail = driver.find_element(By.CSS_SELECTOR, 'body > div > div.workseditor-content')\n",
    "mail.send_keys('mailing test')\n"
   ]
  },
  {
   "cell_type": "code",
   "execution_count": 18,
   "metadata": {},
   "outputs": [],
   "source": [
    "#iframe에서 빠져나옴\n",
    "driver.switch_to.default_content()"
   ]
  },
  {
   "cell_type": "code",
   "execution_count": 19,
   "metadata": {},
   "outputs": [],
   "source": [
    "#메일 보내기 버튼 클릭\n",
    "driver.find_element(By.CSS_SELECTOR , '#content > div.mail_toolbar.type_write > div:nth-child(1) > div > button.button_write_task').click()"
   ]
  },
  {
   "cell_type": "code",
   "execution_count": null,
   "metadata": {},
   "outputs": [],
   "source": []
  }
 ],
 "metadata": {
  "kernelspec": {
   "display_name": "base",
   "language": "python",
   "name": "python3"
  },
  "language_info": {
   "codemirror_mode": {
    "name": "ipython",
    "version": 3
   },
   "file_extension": ".py",
   "mimetype": "text/x-python",
   "name": "python",
   "nbconvert_exporter": "python",
   "pygments_lexer": "ipython3",
   "version": "3.9.12"
  }
 },
 "nbformat": 4,
 "nbformat_minor": 2
}
