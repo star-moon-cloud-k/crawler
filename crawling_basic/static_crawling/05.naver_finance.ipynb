{
 "cells": [
  {
   "cell_type": "code",
   "execution_count": 1,
   "metadata": {},
   "outputs": [],
   "source": [
    "#1단계\n",
    "# 뉴스 제목,링크,내용,언론사,날짜"
   ]
  },
  {
   "cell_type": "code",
   "execution_count": 64,
   "metadata": {},
   "outputs": [],
   "source": [
    "\n",
    "import requests\n",
    "from bs4 import BeautifulSoup\n",
    "import pandas as pd\n",
    "\n",
    "data = []\n",
    "for page in range(1,5):\n",
    "    response = requests.get(f\"https://finance.naver.com/news/mainnews.naver?date=2024-10-02&page={page}\")\n",
    "    html = response.text\n",
    "    soup = BeautifulSoup(html, 'html.parser')\n",
    "    items = soup.select('.block1')\n",
    "    "
   ]
  },
  {
   "cell_type": "code",
   "execution_count": 65,
   "metadata": {},
   "outputs": [],
   "source": [
    "response = requests.get(f\"https://finance.naver.com/news/mainnews.naver?date=2024-10-02\")\n",
    "html = response.text\n",
    "soup = BeautifulSoup(html, 'html.parser')"
   ]
  },
  {
   "cell_type": "code",
   "execution_count": 66,
   "metadata": {},
   "outputs": [
    {
     "data": {
      "text/plain": [
       "'日 이시바 취임 외교…미국 이어 한국·호주순 첫 정상 통화'"
      ]
     },
     "execution_count": 66,
     "metadata": {},
     "output_type": "execute_result"
    }
   ],
   "source": [
    "soup.select_one('.articleSubject >a').text"
   ]
  },
  {
   "cell_type": "code",
   "execution_count": 68,
   "metadata": {},
   "outputs": [
    {
     "data": {
      "text/plain": [
       "'https://finance.naver.com/news/news_read.naver?article_id=0005479416&office_id=277&mode=mainnews&type=&date=2024-10-02&page=1'"
      ]
     },
     "execution_count": 68,
     "metadata": {},
     "output_type": "execute_result"
    }
   ],
   "source": [
    "'https://finance.naver.com' +soup.select_one('.articleSubject >a').attrs['href']"
   ]
  },
  {
   "cell_type": "code",
   "execution_count": 73,
   "metadata": {},
   "outputs": [
    {
     "data": {
      "text/plain": [
       "'이시바 시게루 일본 총리가 2일 조 바이든 미국 대통령, 윤석열 대통령, 앤서니 앨버니지 호주 총리와 차례로 첫 통화를 하며 취임 외교..'"
      ]
     },
     "execution_count": 73,
     "metadata": {},
     "output_type": "execute_result"
    }
   ],
   "source": [
    "soup.select_one('.articleSummary').contents[0].strip()"
   ]
  },
  {
   "cell_type": "code",
   "execution_count": 78,
   "metadata": {},
   "outputs": [
    {
     "data": {
      "text/plain": [
       "'아시아경제'"
      ]
     },
     "execution_count": 78,
     "metadata": {},
     "output_type": "execute_result"
    }
   ],
   "source": [
    "soup.select_one('.press').text.strip()"
   ]
  },
  {
   "cell_type": "code",
   "execution_count": 77,
   "metadata": {},
   "outputs": [
    {
     "data": {
      "text/plain": [
       "'2024-10-02 21:39:35'"
      ]
     },
     "execution_count": 77,
     "metadata": {},
     "output_type": "execute_result"
    }
   ],
   "source": [
    "soup.select_one('.wdate').text"
   ]
  },
  {
   "cell_type": "code",
   "execution_count": null,
   "metadata": {},
   "outputs": [],
   "source": [
    "#2 단계\n",
    "# 20개 항목. 나무태그 찾기\n",
    "soup = BeautifulSoup(html, 'html.parser')\n",
    "items = soup.select('.block1')\n",
    "\n",
    "for item in items:\n",
    "        subject = item.select_one('.articleSubject').text\n",
    "        link = 'https://finance.naver.com' + soup.select_one('.articleSubject >a').attrs['href']\n",
    "        summary = item.select_one(\".articleSummary\").contents[0].strip()\n",
    "        press = item.select_one(\".press\").text.strip()\n",
    "        date = item.select_one('.wdate').text.strip()\n",
    "        \n",
    "        print(subject, link, summary, press ,date,  '\\n')\n",
    "        data.append([subject, link, summary, press ,date])"
   ]
  },
  {
   "cell_type": "code",
   "execution_count": null,
   "metadata": {},
   "outputs": [],
   "source": [
    "#3단계 1페이지부터 마지막 페이지까지 크롤링\n",
    "data = []\n",
    "for page in range(1,1000):\n",
    "    response = requests.get(f\"https://finance.naver.com/news/mainnews.naver?date=2024-10-02&page={page}\")\n",
    "    html = response.text\n",
    "    soup = BeautifulSoup(html, 'html.parser')\n",
    "\n",
    "    \n",
    "    items = soup.select('.block1')\n",
    "    \n",
    "    for item in items:\n",
    "        subject = item.select_one('.articleSubject').text\n",
    "        link = 'https://finance.naver.com' + soup.select_one('.articleSubject >a').attrs['href']\n",
    "        summary = item.select_one(\".articleSummary\").contents[0].strip()\n",
    "        press = item.select_one(\".press\").text.strip()\n",
    "        date = item.select_one('.wdate').text.strip()\n",
    "        \n",
    "        print(subject, link, summary, press ,date,  '\\n')\n",
    "        data.append([subject, link, summary, press ,date])\n",
    "        \n",
    "    if soup.select_one(\".pgRR\") == None:  #마지막 페이지가 있는지 확인\n",
    "        break"
   ]
  },
  {
   "cell_type": "code",
   "execution_count": 146,
   "metadata": {},
   "outputs": [],
   "source": [
    "#엑셀 저장\n",
    "import pandas as pd\n",
    "\n",
    "pd = pd.DataFrame(data, columns=['제목' ,'링크' , '내용' , '언론사' , '날짜'])"
   ]
  },
  {
   "cell_type": "code",
   "execution_count": 147,
   "metadata": {},
   "outputs": [],
   "source": [
    "pd.to_excel('05.naver_finance.xlsx')"
   ]
  }
 ],
 "metadata": {
  "kernelspec": {
   "display_name": "base",
   "language": "python",
   "name": "python3"
  },
  "language_info": {
   "codemirror_mode": {
    "name": "ipython",
    "version": 3
   },
   "file_extension": ".py",
   "mimetype": "text/x-python",
   "name": "python",
   "nbconvert_exporter": "python",
   "pygments_lexer": "ipython3",
   "version": "3.9.12"
  }
 },
 "nbformat": 4,
 "nbformat_minor": 2
}
