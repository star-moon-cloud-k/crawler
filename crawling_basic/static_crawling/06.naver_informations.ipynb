{
 "cells": [
  {
   "cell_type": "markdown",
   "metadata": {},
   "source": [
    "### 네이버 지식인 크롤링 1단계\n",
    "- 1페이지 첫번째 질문\n",
    "- 제목, 링크, 날짜, 카테고리, 답변수 크롤링해서 출력\n",
    "\n",
    "특수문자가 포함된 경우, \\를 사용해준다.\n",
    "`._nclicks\\:kin\\.txt`"
   ]
  },
  {
   "cell_type": "code",
   "execution_count": 2,
   "metadata": {},
   "outputs": [],
   "source": [
    "import requests\n",
    "from bs4 import BeautifulSoup\n",
    "\n",
    "response = requests.get('https://kin.naver.com/search/list.naver?query=%EC%82%BC%EC%84%B1%EC%A0%84%EC%9E%90')\n",
    "html = response.text\n",
    "soup = BeautifulSoup(html, 'html.parser')"
   ]
  },
  {
   "cell_type": "code",
   "execution_count": 11,
   "metadata": {},
   "outputs": [
    {
     "name": "stdout",
     "output_type": "stream",
     "text": [
      "<a class=\"_nclicks:kin.txt _searchListTitleAnchor\" href=\"https://kin.naver.com/qna/detail.naver?d1id=4&amp;dirId=406&amp;docId=474343840&amp;qb=7IK87ISx7KCE7J6Q&amp;enc=utf8§ion=kin.qna_ency&amp;rank=1&amp;search_sort=0&amp;spq=0\" target=\"_blank\"><b>삼성전자</b> 고졸채용</a>\n"
     ]
    }
   ],
   "source": [
    "questions_data = soup.select_one('._nclicks\\\\:kin\\\\.txt')\n",
    "print(questions_data)"
   ]
  },
  {
   "cell_type": "code",
   "execution_count": 36,
   "metadata": {},
   "outputs": [
    {
     "name": "stdout",
     "output_type": "stream",
     "text": [
      "<a class=\"_nclicks:kin.txt _searchListTitleAnchor\" href=\"https://kin.naver.com/qna/detail.naver?d1id=4&amp;dirId=406&amp;docId=474343840&amp;qb=7IK87ISx7KCE7J6Q&amp;enc=utf8§ion=kin.qna_ency&amp;rank=1&amp;search_sort=0&amp;spq=0\" target=\"_blank\"><b>삼성전자</b> 고졸채용</a>\n"
     ]
    }
   ],
   "source": [
    "print(soup.select_one('._searchListTitleAnchor'))"
   ]
  },
  {
   "cell_type": "code",
   "execution_count": 38,
   "metadata": {},
   "outputs": [
    {
     "name": "stdout",
     "output_type": "stream",
     "text": [
      "<a class=\"_nclicks:kin.txt _searchListTitleAnchor\" href=\"https://kin.naver.com/qna/detail.naver?d1id=4&amp;dirId=406&amp;docId=474343840&amp;qb=7IK87ISx7KCE7J6Q&amp;enc=utf8§ion=kin.qna_ency&amp;rank=1&amp;search_sort=0&amp;spq=0\" target=\"_blank\"><b>삼성전자</b> 고졸채용</a>\n"
     ]
    }
   ],
   "source": [
    "print(soup.select_one('._nclicks\\\\:kin\\\\.txt._searchListTitleAnchor'))"
   ]
  },
  {
   "cell_type": "code",
   "execution_count": 9,
   "metadata": {},
   "outputs": [],
   "source": [
    "question = questions_data.text"
   ]
  },
  {
   "cell_type": "code",
   "execution_count": 10,
   "metadata": {},
   "outputs": [],
   "source": [
    "link = questions_data.attrs['href']"
   ]
  },
  {
   "cell_type": "code",
   "execution_count": 12,
   "metadata": {},
   "outputs": [
    {
     "name": "stdout",
     "output_type": "stream",
     "text": [
      "<dd class=\"txt_inline\">2024.08.28.</dd>\n"
     ]
    }
   ],
   "source": [
    "date_data = soup.select_one('.txt_inline')\n",
    "print(date_data)"
   ]
  },
  {
   "cell_type": "code",
   "execution_count": 14,
   "metadata": {},
   "outputs": [
    {
     "data": {
      "text/plain": [
       "'2024.08.28.'"
      ]
     },
     "execution_count": 14,
     "metadata": {},
     "output_type": "execute_result"
    }
   ],
   "source": [
    "date = date_data.text"
   ]
  },
  {
   "cell_type": "code",
   "execution_count": 43,
   "metadata": {},
   "outputs": [
    {
     "name": "stdout",
     "output_type": "stream",
     "text": [
      "직업, 취업\n"
     ]
    }
   ],
   "source": [
    "category_data = soup.select_one('.txt_block>a:nth-of-type(2)')\n",
    "print(category_data.text)"
   ]
  },
  {
   "cell_type": "code",
   "execution_count": 47,
   "metadata": {},
   "outputs": [],
   "source": [
    "category=category_data"
   ]
  },
  {
   "cell_type": "code",
   "execution_count": 45,
   "metadata": {},
   "outputs": [
    {
     "name": "stdout",
     "output_type": "stream",
     "text": [
      "답변수 3\n"
     ]
    }
   ],
   "source": [
    "answer_count_data = soup.select_one('.hit')\n",
    "print(answer_count_data.text)"
   ]
  },
  {
   "cell_type": "code",
   "execution_count": 46,
   "metadata": {},
   "outputs": [
    {
     "name": "stdout",
     "output_type": "stream",
     "text": [
      "답변수 3\n"
     ]
    }
   ],
   "source": [
    "answer_count_data = soup.select_one('.txt_block>span:nth-of-type(2)')\n",
    "print(answer_count_data.text)"
   ]
  },
  {
   "cell_type": "code",
   "execution_count": 24,
   "metadata": {},
   "outputs": [],
   "source": [
    "answer_count = answer_count_data.text.split()[1]"
   ]
  },
  {
   "cell_type": "markdown",
   "metadata": {},
   "source": [
    "### 2단계\n",
    "나무태그 찾기<br>\n",
    "1페이지 10개 만들기\n",
    "제목, 링크, 날짜, 카테고리, 답변 수 크롤링"
   ]
  },
  {
   "cell_type": "code",
   "execution_count": 48,
   "metadata": {},
   "outputs": [],
   "source": [
    "response = requests.get('https://kin.naver.com/search/list.naver?query=%EC%82%BC%EC%84%B1%EC%A0%84%EC%9E%90')\n",
    "html = response.text\n",
    "soup = BeautifulSoup(html, 'html.parser')"
   ]
  },
  {
   "cell_type": "code",
   "execution_count": 60,
   "metadata": {},
   "outputs": [
    {
     "name": "stdout",
     "output_type": "stream",
     "text": [
      "삼성전자 고졸채용 https://kin.naver.com/qna/detail.naver?d1id=4&dirId=406&docId=474343840&qb=7IK87ISx7KCE7J6Q&enc=utf8§ion=kin.qna_ency&rank=1&search_sort=0&spq=0 2024.08.28. 직업, 취업 답변수 3\n",
      "삼성전자우 배당 https://kin.naver.com/qna/detail.naver?d1id=4&dirId=40102&docId=473329187&qb=7IK87ISx7KCE7J6Q&enc=utf8§ion=kin.qna_ency&rank=2&search_sort=0&spq=0 2024.08.02. 주식, 증권 답변수 4\n",
      "삼성전자 배당금 지급일 https://kin.naver.com/qna/detail.naver?d1id=11&dirId=1107&docId=383486890&qb=7IK87ISx7KCE7J6Q&enc=utf8§ion=kin.qna_ency&rank=3&search_sort=0&spq=0 2024.09.12. 평생교육 답변수 4\n",
      "삼성전자 면접 대비하는 학원 개강 보통...  https://kin.naver.com/qna/detail.naver?d1id=4&dirId=406&docId=371951229&qb=7IK87ISx7KCE7J6Q&enc=utf8§ion=kin.qna_ency&rank=4&search_sort=0&spq=0 2024.08.06. 직업, 취업 답변수 5\n",
      "삼성전자 1억 매수 어때요? https://kin.naver.com/qna/detail.naver?d1id=4&dirId=40102&docId=473897632&qb=7IK87ISx7KCE7J6Q&enc=utf8§ion=kin.qna_ency&rank=5&search_sort=0&spq=0 2024.08.13. 주식, 증권 답변수 7\n",
      "삼성 전자레인지가 갑자기 안돼요....  https://kin.naver.com/qna/detail.naver?d1id=5&dirId=50104&docId=475247071&qb=7IK87ISx7KCE7J6Q&enc=utf8§ion=kin.qna_ency&rank=6&search_sort=0&spq=0 2024.09.20. 청소, 주방, 계절 가전 답변수 2\n",
      "삼성전자 주가전망 어떨까요? https://kin.naver.com/qna/detail.naver?d1id=8&dirId=80301&docId=475543151&qb=7IK87ISx7KCE7J6Q&enc=utf8§ion=kin.qna_ency&rank=7&search_sort=0&spq=0 2024.09.24. 피부관리 답변수 8\n",
      "삼성전자 본사 위치가 어딘가요? https://kin.naver.com/qna/detail.naver?d1id=1&dirId=107040201&docId=472663460&qb=7IK87ISx7KCE7J6Q&enc=utf8§ion=kin.qna_ency&rank=8&search_sort=0&spq=0 2024.07.18. 삼성 답변수 3\n",
      "삼성전자 주가 어때요? https://kin.naver.com/qna/detail.naver?d1id=8&dirId=80301&docId=473890696&qb=7IK87ISx7KCE7J6Q&enc=utf8§ion=kin.qna_ency&rank=9&search_sort=0&spq=0 2024.08.13. 피부관리 답변수 10\n",
      "삼성전자 주가전망 미래가 밝을까요? https://kin.naver.com/qna/detail.naver?d1id=8&dirId=80301&docId=474355636&qb=7IK87ISx7KCE7J6Q&enc=utf8§ion=kin.qna_ency&rank=10&search_sort=0&spq=0 2024.08.27. 피부관리 답변수 4\n"
     ]
    }
   ],
   "source": [
    "\n",
    "items = soup.select('.basic1>li') \n",
    "\n",
    "for item in items:\n",
    "    question = item.select_one('._nclicks\\\\:kin\\\\.txt._searchListTitleAnchor').text\n",
    "    link = item.select_one('._nclicks\\\\:kin\\\\.txt._searchListTitleAnchor').attrs['href']\n",
    "    date = item.select_one('.txt_inline').text\n",
    "    category = item.select_one('.txt_block>a:nth-of-type(2)').text\n",
    "    answer_count = item.select_one('.txt_block>span:nth-of-type(2)').text\n",
    "    print(question, link, date, category, answer_count)\n",
    "    "
   ]
  },
  {
   "cell_type": "markdown",
   "metadata": {},
   "source": [
    "### 3단계\n",
    "N페이지까지 크롤링<br>\n",
    "제목, 링크, 날짜, 카테고리, 답변 수"
   ]
  },
  {
   "cell_type": "code",
   "execution_count": 64,
   "metadata": {},
   "outputs": [
    {
     "name": "stdout",
     "output_type": "stream",
     "text": [
      "삼성전자 고졸채용 https://kin.naver.com/qna/detail.naver?d1id=4&dirId=406&docId=474343840&qb=7IK87ISx7KCE7J6Q&enc=utf8§ion=kin.qna_ency&rank=1&search_sort=0&spq=0 2024.08.28. 직업, 취업 답변수 3\n",
      "삼성전자우 배당 https://kin.naver.com/qna/detail.naver?d1id=4&dirId=40102&docId=473329187&qb=7IK87ISx7KCE7J6Q&enc=utf8§ion=kin.qna_ency&rank=2&search_sort=0&spq=0 2024.08.02. 주식, 증권 답변수 4\n",
      "삼성전자 배당금 지급일 https://kin.naver.com/qna/detail.naver?d1id=11&dirId=1107&docId=383486890&qb=7IK87ISx7KCE7J6Q&enc=utf8§ion=kin.qna_ency&rank=3&search_sort=0&spq=0 2024.09.12. 평생교육 답변수 4\n",
      "삼성전자 면접 대비하는 학원 개강 보통...  https://kin.naver.com/qna/detail.naver?d1id=4&dirId=406&docId=371951229&qb=7IK87ISx7KCE7J6Q&enc=utf8§ion=kin.qna_ency&rank=4&search_sort=0&spq=0 2024.08.06. 직업, 취업 답변수 5\n",
      "삼성전자 1억 매수 어때요? https://kin.naver.com/qna/detail.naver?d1id=4&dirId=40102&docId=473897632&qb=7IK87ISx7KCE7J6Q&enc=utf8§ion=kin.qna_ency&rank=5&search_sort=0&spq=0 2024.08.13. 주식, 증권 답변수 7\n",
      "삼성 전자레인지가 갑자기 안돼요....  https://kin.naver.com/qna/detail.naver?d1id=5&dirId=50104&docId=475247071&qb=7IK87ISx7KCE7J6Q&enc=utf8§ion=kin.qna_ency&rank=6&search_sort=0&spq=0 2024.09.20. 청소, 주방, 계절 가전 답변수 2\n",
      "삼성전자 주가전망 어떨까요? https://kin.naver.com/qna/detail.naver?d1id=8&dirId=80301&docId=475543151&qb=7IK87ISx7KCE7J6Q&enc=utf8§ion=kin.qna_ency&rank=7&search_sort=0&spq=0 2024.09.24. 피부관리 답변수 8\n",
      "삼성전자 본사 위치가 어딘가요? https://kin.naver.com/qna/detail.naver?d1id=1&dirId=107040201&docId=472663460&qb=7IK87ISx7KCE7J6Q&enc=utf8§ion=kin.qna_ency&rank=8&search_sort=0&spq=0 2024.07.18. 삼성 답변수 3\n",
      "삼성전자 주가 어때요? https://kin.naver.com/qna/detail.naver?d1id=8&dirId=80301&docId=473890696&qb=7IK87ISx7KCE7J6Q&enc=utf8§ion=kin.qna_ency&rank=9&search_sort=0&spq=0 2024.08.13. 피부관리 답변수 10\n",
      "삼성전자 주가전망 미래가 밝을까요? https://kin.naver.com/qna/detail.naver?d1id=8&dirId=80301&docId=474355636&qb=7IK87ISx7KCE7J6Q&enc=utf8§ion=kin.qna_ency&rank=10&search_sort=0&spq=0 2024.08.27. 피부관리 답변수 4\n",
      "쿠팡 , 삼성전자 https://kin.naver.com/qna/detail.naver?d1id=4&dirId=40701&docId=473622338&qb=7IK87ISx7KCE7J6Q&enc=utf8§ion=kin.qna_ency&rank=11&search_sort=0&spq=0 2024.08.08. 판매, 유통업 답변수 1\n",
      "삼성전자 SL-C563W 가품토너 사용시 a/s https://kin.naver.com/qna/detail.naver?d1id=5&dirId=5020403&docId=475728088&qb=7IK87ISx7KCE7J6Q&enc=utf8§ion=kin.qna_ency&rank=12&search_sort=0&spq=0 2024.09.25. 복합기, 프린터 답변수 2\n",
      "삼성전자 512GB USB 질문요 https://kin.naver.com/qna/detail.naver?d1id=1&dirId=107040201&docId=473819088&qb=7IK87ISx7KCE7J6Q&enc=utf8§ion=kin.qna_ency&rank=13&search_sort=0&spq=0 2024.08.12. 삼성 답변수 2\n",
      "삼성전자 분기배당 기준일 언젠가요? https://kin.naver.com/qna/detail.naver?d1id=4&dirId=40102&docId=471676218&qb=7IK87ISx7KCE7J6Q&enc=utf8§ion=kin.qna_ency&rank=14&search_sort=0&spq=0 2024.06.27. 주식, 증권 답변수 4\n",
      "삼성전자 배당금 지급일 https://kin.naver.com/qna/detail.naver?d1id=4&dirId=406&docId=387092274&qb=7IK87ISx7KCE7J6Q&enc=utf8§ion=kin.qna_ency&rank=15&search_sort=0&spq=0 2024.08.24. 직업, 취업 답변수 8\n",
      "삼성전자 왜 못오릅니까 파업 영향으로...  https://kin.naver.com/qna/detail.naver?d1id=4&dirId=40102&docId=470721375&qb=7IK87ISx7KCE7J6Q&enc=utf8§ion=kin.qna_ency&rank=16&search_sort=0&spq=0 2024.06.21. 주식, 증권 답변수 2\n",
      "삼성전자 ddr5 서버용 메모리 https://kin.naver.com/qna/detail.naver?d1id=5&dirId=5020303&docId=474510600&qb=7IK87ISx7KCE7J6Q&enc=utf8§ion=kin.qna_ency&rank=17&search_sort=0&spq=0 2024.08.26. 메인메모리, RAM 답변수 1\n",
      "삼성전자 고졸자 연봉(공고) https://kin.naver.com/qna/detail.naver?d1id=4&dirId=40609&docId=471714152&qb=7IK87ISx7KCE7J6Q&enc=utf8§ion=kin.qna_ency&rank=18&search_sort=0&spq=0 2024.07.19. 생산, 기술 답변수 1\n",
      "삼성전자 카파시계 https://kin.naver.com/qna/detail.naver?d1id=8&dirId=8040304&docId=474375835&qb=7IK87ISx7KCE7J6Q&enc=utf8§ion=kin.qna_ency&rank=19&search_sort=0&spq=0 2024.08.23. 시계 답변수 1\n",
      "삼성전자 올인원pc 7 https://kin.naver.com/qna/detail.naver?d1id=1&dirId=10301&docId=471839785&qb=7IK87ISx7KCE7J6Q&enc=utf8§ion=kin.qna_ency&rank=20&search_sort=0&spq=0 2024.06.30. 윈도우 답변수 2\n"
     ]
    }
   ],
   "source": [
    "pages = int(input())\n",
    "\n",
    "for page in range(1,pages+1):\n",
    "    response = requests.get(f'https://kin.naver.com/search/list.naver?query=%EC%82%BC%EC%84%B1%EC%A0%84%EC%9E%90&page={page}')\n",
    "    html = response.text\n",
    "    soup = BeautifulSoup(html, 'html.parser')\n",
    "    \n",
    "    items = soup.select('.basic1>li') \n",
    "\n",
    "    for item in items:\n",
    "        question = item.select_one('._nclicks\\\\:kin\\\\.txt._searchListTitleAnchor').text\n",
    "        link = item.select_one('._nclicks\\\\:kin\\\\.txt._searchListTitleAnchor').attrs['href']\n",
    "        date = item.select_one('.txt_inline').text\n",
    "        category = item.select_one('.txt_block>a:nth-of-type(2)').text\n",
    "        answer_count = item.select_one('.txt_block>span:nth-of-type(2)').text\n",
    "        print(question, link, date, category, answer_count)\n",
    "    "
   ]
  },
  {
   "cell_type": "markdown",
   "metadata": {},
   "source": [
    "### 4단계\n",
    "크롤링 한 데이터를 엑셀화<br>\n",
    "제목, 링크, 날짜, 카테고리, 답변 수(숫자로만)"
   ]
  },
  {
   "cell_type": "code",
   "execution_count": 68,
   "metadata": {},
   "outputs": [],
   "source": [
    "import pandas as pd\n",
    "data = []\n",
    "pages = int(input())\n",
    "\n",
    "for page in range(1,pages+1):\n",
    "    response = requests.get(f'https://kin.naver.com/search/list.naver?query=%EC%82%BC%EC%84%B1%EC%A0%84%EC%9E%90&page={page}')\n",
    "    html = response.text\n",
    "    soup = BeautifulSoup(html, 'html.parser')\n",
    "    \n",
    "    items = soup.select('.basic1>li') \n",
    "\n",
    "    for item in items:\n",
    "        question = item.select_one('._nclicks\\\\:kin\\\\.txt._searchListTitleAnchor').text\n",
    "        link = item.select_one('._nclicks\\\\:kin\\\\.txt._searchListTitleAnchor').attrs['href']\n",
    "        date = item.select_one('.txt_inline').text\n",
    "        category = item.select_one('.txt_block>a:nth-of-type(2)').text\n",
    "        answer_count = item.select_one('.txt_block>span:nth-of-type(2)').text.split()[1]\n",
    "        data.append([question, link, date, category, answer_count])\n",
    "\n",
    "pd = pd.DataFrame(data, columns=['제목' ,'링크' , '내용' , '언론사' , '날짜'])"
   ]
  },
  {
   "cell_type": "code",
   "execution_count": 69,
   "metadata": {},
   "outputs": [],
   "source": [
    "pd.to_excel('06.naver_informations.xlsx')"
   ]
  }
 ],
 "metadata": {
  "kernelspec": {
   "display_name": "base",
   "language": "python",
   "name": "python3"
  },
  "language_info": {
   "codemirror_mode": {
    "name": "ipython",
    "version": 3
   },
   "file_extension": ".py",
   "mimetype": "text/x-python",
   "name": "python",
   "nbconvert_exporter": "python",
   "pygments_lexer": "ipython3",
   "version": "3.9.12"
  }
 },
 "nbformat": 4,
 "nbformat_minor": 2
}
