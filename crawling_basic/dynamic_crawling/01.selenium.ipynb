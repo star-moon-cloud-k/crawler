{
 "cells": [
  {
   "cell_type": "code",
   "execution_count": null,
   "metadata": {},
   "outputs": [],
   "source": [
    "#pip install selenium==4.17.2"
   ]
  },
  {
   "cell_type": "markdown",
   "metadata": {},
   "source": [
    "# selenium 기본 명령어\n",
    "\n",
    "```python\n",
    "from selenium import webdriver\n",
    "\n",
    "driver = webdriver.Chrome()  #크롬으로 동작시킴\n",
    "driver.get('https://www.naver.com') #페이지 불러오기\n",
    "driver.close() #현재 창 닫기\n",
    "driver.quit() #모든 창 닫고, WebDirver 세션 종료\n",
    "driver.current_url #현재 URL 문자열 형태로 가져옴, 읽기 전용이다. 리다이렉션 후 최종 URL을 반환\n",
    "driver.title #웹 페이지 제목\n",
    "driver.maximize_window() #최대화\n",
    "driver.minimize_window() #최소화\n",
    "driver.back()           #뒤로가기\n",
    "driver.forward()        #앞으로 가기\n",
    "driver.refresh()        #새로고침\n",
    "\n",
    "```"
   ]
  },
  {
   "cell_type": "code",
   "execution_count": 13,
   "metadata": {},
   "outputs": [],
   "source": [
    "from selenium import webdriver\n",
    "\n",
    "driver =webdriver.Chrome()\n",
    "driver.get('https://www.naver.com')\n",
    "driver.current_url\n",
    "driver.title\n",
    "driver.maximize_window()\n",
    "driver.minimize_window()\n",
    "driver.quit()"
   ]
  },
  {
   "cell_type": "markdown",
   "metadata": {},
   "source": [
    "```python\n",
    "from selenium.webdriver.common.by import By\n",
    "from selenium.webdriver.common.keys import Keys\n",
    "driver.find_element(By.CSS_SELECTOR, 'CSS선택자')\n",
    "```\n",
    "By 클래스 : 웹 페이지의 태그를 찾을 때 사용\n",
    "- CSS 선택자\n",
    "- 클래스 이름\n",
    "- ID\n",
    "- Xpath\n",
    "\n",
    "Keys 클래스 : 키보드 입력\n",
    "\n",
    "driver.find_element()\n",
    "- 웹페이지에서 첫번째로 일치하는 태그를 찾아서 반환해준다.\n",
    "- 태그가 없다면 NoSuchElementException 발생\n",
    "- 자바스크립트를 사용해서 동적으로 태그가 생성되는 페이지에서는 태그가 로드될때까지 대기 후 찾아야할 수 있다."
   ]
  },
  {
   "cell_type": "markdown",
   "metadata": {},
   "source": [
    "### selenium.webdriver.common.keys.Keys의 특수 키 목록:\n",
    "Keys.ADD – 더하기 키 (+) <br>\n",
    "Keys.ALT – Alt 키 (Alt)<br>\n",
    "Keys.ARROW_DOWN – 아래쪽 화살표 키<br>\n",
    "Keys.ARROW_LEFT – 왼쪽 화살표 키<br>\n",
    "Keys.ARROW_RIGHT – 오른쪽 화살표 키<br>\n",
    "Keys.ARROW_UP – 위쪽 화살표 키<br>\n",
    "Keys.BACKSPACE – 백스페이스 키<br>\n",
    "Keys.CANCEL – 취소(Break) 키<br>\n",
    "Keys.CLEAR – Clear 키<br>\n",
    "Keys.COMMAND – Command 키 (macOS에서 사용)<br>\n",
    "Keys.CONTROL – Ctrl 키 (Control)<br>\n",
    "Keys.DECIMAL – 소수점 키<br>\n",
    "Keys.DELETE – 삭제 키<br>\n",
    "Keys.DIVIDE – 나누기 키 (/)<br>\n",
    "Keys.DOWN – 아래쪽 화살표 키 (alias Keys.ARROW_DOWN)<br>\n",
    "Keys.END – End 키<br>\n",
    "Keys.ENTER – 엔터 키<br>\n",
    "Keys.EQUALS – 등호 키 (=)<br>\n",
    "Keys.ESCAPE – Esc 키 (Escape)<br>\n",
    "Keys.F1부터 Keys.F12 – F1부터 F12까지의 기능 키<br>\n",
    "Keys.HELP – 도움말 키<br>\n",
    "Keys.HOME – Home 키<br>\n",
    "Keys.INSERT – Insert 키<br>\n",
    "Keys.LEFT – 왼쪽 화살표 키 (alias Keys.ARROW_LEFT)<br>\n",
    "Keys.LEFT_ALT – 왼쪽 Alt 키<br>\n",
    "Keys.LEFT_CONTROL – 왼쪽 Ctrl 키<br>\n",
    "Keys.LEFT_SHIFT – 왼쪽 Shift 키<br>\n",
    "Keys.META – Meta 키 (macOS에서 Command와 유사)<br>\n",
    "Keys.MULTIPLY – 곱하기 키 (*)<br>\n",
    "Keys.NUMPAD0부터 Keys.NUMPAD9 – 넘버패드 숫자 키 (0부터 9)<br>\n",
    "Keys.PAGE_DOWN – 페이지 다운 키<br>\n",
    "Keys.PAGE_UP – 페이지 업 키<br>\n",
    "Keys.PAUSE – Pause 키<br>\n",
    "Keys.RETURN – Enter 키 (대체 Keys.ENTER)<br>\n",
    "Keys.RIGHT – 오른쪽 화살표 키 (alias Keys.ARROW_RIGHT)<br>\n",
    "Keys.RIGHT_ALT – 오른쪽 Alt 키<br>\n",
    "Keys.RIGHT_CONTROL – 오른쪽 Ctrl 키<br>\n",
    "Keys.RIGHT_SHIFT – 오른쪽 Shift 키<br>\n",
    "Keys.SEMICOLON – 세미콜론 키 (;)<br>\n",
    "Keys.SEPARATOR – 구분자 키<br>\n",
    "Keys.SHIFT – Shift 키<br>\n",
    "Keys.SPACE – 스페이스바 키<br>\n",
    "Keys.SUBTRACT – 빼기 키 (-)<br>\n",
    "Keys.TAB – Tab 키<br>\n",
    "Keys.UP – 위쪽 화살표 키 (alias Keys.ARROW_UP)<br>\n",
    "\n",
    "사용 예시:\n",
    "```python\n",
    "코드 복사\n",
    "# 'Hello'를 입력하고 Enter 키를 누르는 예시:\n",
    "search_box.send_keys(\"Hello\", Keys.ENTER)\n",
    "```"
   ]
  },
  {
   "cell_type": "code",
   "execution_count": 20,
   "metadata": {},
   "outputs": [],
   "source": [
    "from selenium.webdriver.common.by import By\n",
    "driver =webdriver.Chrome()\n",
    "driver.get('https://www.naver.com')\n",
    "search = driver.find_element(By.CSS_SELECTOR, '#query')\n"
   ]
  },
  {
   "cell_type": "code",
   "execution_count": 22,
   "metadata": {},
   "outputs": [],
   "source": [
    "search.click()"
   ]
  },
  {
   "cell_type": "code",
   "execution_count": 23,
   "metadata": {},
   "outputs": [],
   "source": [
    "search.send_keys('스타트 코딩')"
   ]
  },
  {
   "cell_type": "code",
   "execution_count": 24,
   "metadata": {},
   "outputs": [],
   "source": [
    "from selenium.webdriver.common.keys import Keys\n",
    "# 키입력\n",
    "search.send_keys(Keys.ENTER)"
   ]
  },
  {
   "cell_type": "code",
   "execution_count": 25,
   "metadata": {},
   "outputs": [],
   "source": [
    "#셀레니움 기본 탬플릿\n",
    "from selenium.webdriver.common.by import By\n",
    "from selenium.webdriver.common.keys import Keys\n",
    "driver =webdriver.Chrome()\n",
    "driver.get('https://www.naver.com')\n",
    "search = driver.find_element(By.CSS_SELECTOR, '#query')\n",
    "search.click()\n",
    "search.send_keys('스타트 코딩')\n",
    "search.send_keys(Keys.ENTER)"
   ]
  },
  {
   "cell_type": "code",
   "execution_count": null,
   "metadata": {},
   "outputs": [],
   "source": []
  }
 ],
 "metadata": {
  "kernelspec": {
   "display_name": "base",
   "language": "python",
   "name": "python3"
  },
  "language_info": {
   "codemirror_mode": {
    "name": "ipython",
    "version": 3
   },
   "file_extension": ".py",
   "mimetype": "text/x-python",
   "name": "python",
   "nbconvert_exporter": "python",
   "pygments_lexer": "ipython3",
   "version": "3.9.12"
  }
 },
 "nbformat": 4,
 "nbformat_minor": 2
}
