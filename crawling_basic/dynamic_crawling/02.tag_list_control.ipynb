{
 "cells": [
  {
   "cell_type": "code",
   "execution_count": 3,
   "metadata": {},
   "outputs": [],
   "source": [
    "#셀레니움 기본 탬플릿\n",
    "from selenium import webdriver\n",
    "from selenium.webdriver.common.by import By\n",
    "from selenium.webdriver.common.keys import Keys\n",
    "driver = webdriver.Chrome()\n",
    "driver.get('https://startcoding.pythonanywhere.com/basic')\n"
   ]
  },
  {
   "cell_type": "code",
   "execution_count": 12,
   "metadata": {},
   "outputs": [],
   "source": [
    "labels = driver.find_elements(By.CSS_SELECTOR, 'label[for]')"
   ]
  },
  {
   "cell_type": "code",
   "execution_count": 13,
   "metadata": {},
   "outputs": [],
   "source": [
    "import time\n",
    "\n",
    "for label in labels:\n",
    "    label.click()\n",
    "    time.sleep(1)"
   ]
  },
  {
   "cell_type": "code",
   "execution_count": 15,
   "metadata": {},
   "outputs": [
    {
     "name": "stdout",
     "output_type": "stream",
     "text": [
      "노트북 (10) category-1\n",
      "데스크탑 (10) category-2\n",
      "휴대폰 (10) category-3\n",
      "모니터 (5) category-4\n",
      "카메라 (128) category-5\n",
      "악세사리 (740) category-6\n",
      "SAMSUNG (578) brand-1\n",
      "LG (125) brand-2\n",
      "HP (755) brand-3\n",
      "DELL (578) brand-4\n",
      "ASUS (125) brand-5\n",
      "SONY (755) brand-6\n"
     ]
    }
   ],
   "source": [
    "for label in labels:\n",
    "    print(label.text, label.get_attribute('for'))"
   ]
  },
  {
   "cell_type": "code",
   "execution_count": null,
   "metadata": {},
   "outputs": [],
   "source": []
  }
 ],
 "metadata": {
  "kernelspec": {
   "display_name": "base",
   "language": "python",
   "name": "python3"
  },
  "language_info": {
   "codemirror_mode": {
    "name": "ipython",
    "version": 3
   },
   "file_extension": ".py",
   "mimetype": "text/x-python",
   "name": "python",
   "nbconvert_exporter": "python",
   "pygments_lexer": "ipython3",
   "version": "3.9.12"
  }
 },
 "nbformat": 4,
 "nbformat_minor": 2
}
