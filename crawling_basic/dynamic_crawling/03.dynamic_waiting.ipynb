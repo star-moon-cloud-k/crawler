{
 "cells": [
  {
   "cell_type": "code",
   "execution_count": 1,
   "metadata": {},
   "outputs": [],
   "source": [
    "from selenium import webdriver\n",
    "from selenium.webdriver.common.by import By\n",
    "from selenium.webdriver.common.keys import Keys\n",
    "driver =webdriver.Chrome()\n",
    "driver.get('https://www.naver.com')\n"
   ]
  },
  {
   "cell_type": "code",
   "execution_count": 3,
   "metadata": {},
   "outputs": [],
   "source": [
    "#암시적 대기\n",
    "driver.implicitly_wait(10)"
   ]
  },
  {
   "cell_type": "code",
   "execution_count": 8,
   "metadata": {},
   "outputs": [
    {
     "ename": "NoSuchElementException",
     "evalue": "Message: no such element: Unable to locate element: {\"method\":\"css selector\",\"selector\":\"#query1\"}\n  (Session info: chrome=129.0.6668.90); For documentation on this error, please visit: https://www.selenium.dev/documentation/webdriver/troubleshooting/errors#no-such-element-exception\nStacktrace:\n0   chromedriver                        0x00000001030f4248 cxxbridge1$str$ptr + 1907280\n1   chromedriver                        0x00000001030ec730 cxxbridge1$str$ptr + 1875768\n2   chromedriver                        0x0000000102d00260 cxxbridge1$string$len + 89488\n3   chromedriver                        0x0000000102d4450c cxxbridge1$string$len + 368700\n4   chromedriver                        0x0000000102d7e7d0 cxxbridge1$string$len + 606976\n5   chromedriver                        0x0000000102d3912c cxxbridge1$string$len + 322652\n6   chromedriver                        0x0000000102d39d7c cxxbridge1$string$len + 325804\n7   chromedriver                        0x00000001030bc4d8 cxxbridge1$str$ptr + 1678560\n8   chromedriver                        0x00000001030c0e40 cxxbridge1$str$ptr + 1697352\n9   chromedriver                        0x00000001030a15ec cxxbridge1$str$ptr + 1568244\n10  chromedriver                        0x00000001030c1710 cxxbridge1$str$ptr + 1699608\n11  chromedriver                        0x0000000103092b90 cxxbridge1$str$ptr + 1508248\n12  chromedriver                        0x00000001030dd828 cxxbridge1$str$ptr + 1814576\n13  chromedriver                        0x00000001030dd980 cxxbridge1$str$ptr + 1814920\n14  chromedriver                        0x00000001030ec3d0 cxxbridge1$str$ptr + 1874904\n15  libsystem_pthread.dylib             0x00000001936d6f94 _pthread_start + 136\n16  libsystem_pthread.dylib             0x00000001936d1d34 thread_start + 8\n",
     "output_type": "error",
     "traceback": [
      "\u001b[0;31m---------------------------------------------------------------------------\u001b[0m",
      "\u001b[0;31mNoSuchElementException\u001b[0m                    Traceback (most recent call last)",
      "Input \u001b[0;32mIn [8]\u001b[0m, in \u001b[0;36m<cell line: 1>\u001b[0;34m()\u001b[0m\n\u001b[0;32m----> 1\u001b[0m \u001b[43mdriver\u001b[49m\u001b[38;5;241;43m.\u001b[39;49m\u001b[43mfind_element\u001b[49m\u001b[43m(\u001b[49m\u001b[43mBy\u001b[49m\u001b[38;5;241;43m.\u001b[39;49m\u001b[43mCSS_SELECTOR\u001b[49m\u001b[43m,\u001b[49m\u001b[43m \u001b[49m\u001b[38;5;124;43m'\u001b[39;49m\u001b[38;5;124;43m#query1\u001b[39;49m\u001b[38;5;124;43m'\u001b[39;49m\u001b[43m)\u001b[49m\n",
      "File \u001b[0;32m/opt/homebrew/anaconda3/lib/python3.9/site-packages/selenium/webdriver/remote/webdriver.py:741\u001b[0m, in \u001b[0;36mWebDriver.find_element\u001b[0;34m(self, by, value)\u001b[0m\n\u001b[1;32m    738\u001b[0m     by \u001b[38;5;241m=\u001b[39m By\u001b[38;5;241m.\u001b[39mCSS_SELECTOR\n\u001b[1;32m    739\u001b[0m     value \u001b[38;5;241m=\u001b[39m \u001b[38;5;124mf\u001b[39m\u001b[38;5;124m'\u001b[39m\u001b[38;5;124m[name=\u001b[39m\u001b[38;5;124m\"\u001b[39m\u001b[38;5;132;01m{\u001b[39;00mvalue\u001b[38;5;132;01m}\u001b[39;00m\u001b[38;5;124m\"\u001b[39m\u001b[38;5;124m]\u001b[39m\u001b[38;5;124m'\u001b[39m\n\u001b[0;32m--> 741\u001b[0m \u001b[38;5;28;01mreturn\u001b[39;00m \u001b[38;5;28;43mself\u001b[39;49m\u001b[38;5;241;43m.\u001b[39;49m\u001b[43mexecute\u001b[49m\u001b[43m(\u001b[49m\u001b[43mCommand\u001b[49m\u001b[38;5;241;43m.\u001b[39;49m\u001b[43mFIND_ELEMENT\u001b[49m\u001b[43m,\u001b[49m\u001b[43m \u001b[49m\u001b[43m{\u001b[49m\u001b[38;5;124;43m\"\u001b[39;49m\u001b[38;5;124;43musing\u001b[39;49m\u001b[38;5;124;43m\"\u001b[39;49m\u001b[43m:\u001b[49m\u001b[43m \u001b[49m\u001b[43mby\u001b[49m\u001b[43m,\u001b[49m\u001b[43m \u001b[49m\u001b[38;5;124;43m\"\u001b[39;49m\u001b[38;5;124;43mvalue\u001b[39;49m\u001b[38;5;124;43m\"\u001b[39;49m\u001b[43m:\u001b[49m\u001b[43m \u001b[49m\u001b[43mvalue\u001b[49m\u001b[43m}\u001b[49m\u001b[43m)\u001b[49m[\u001b[38;5;124m\"\u001b[39m\u001b[38;5;124mvalue\u001b[39m\u001b[38;5;124m\"\u001b[39m]\n",
      "File \u001b[0;32m/opt/homebrew/anaconda3/lib/python3.9/site-packages/selenium/webdriver/remote/webdriver.py:347\u001b[0m, in \u001b[0;36mWebDriver.execute\u001b[0;34m(self, driver_command, params)\u001b[0m\n\u001b[1;32m    345\u001b[0m response \u001b[38;5;241m=\u001b[39m \u001b[38;5;28mself\u001b[39m\u001b[38;5;241m.\u001b[39mcommand_executor\u001b[38;5;241m.\u001b[39mexecute(driver_command, params)\n\u001b[1;32m    346\u001b[0m \u001b[38;5;28;01mif\u001b[39;00m response:\n\u001b[0;32m--> 347\u001b[0m     \u001b[38;5;28;43mself\u001b[39;49m\u001b[38;5;241;43m.\u001b[39;49m\u001b[43merror_handler\u001b[49m\u001b[38;5;241;43m.\u001b[39;49m\u001b[43mcheck_response\u001b[49m\u001b[43m(\u001b[49m\u001b[43mresponse\u001b[49m\u001b[43m)\u001b[49m\n\u001b[1;32m    348\u001b[0m     response[\u001b[38;5;124m\"\u001b[39m\u001b[38;5;124mvalue\u001b[39m\u001b[38;5;124m\"\u001b[39m] \u001b[38;5;241m=\u001b[39m \u001b[38;5;28mself\u001b[39m\u001b[38;5;241m.\u001b[39m_unwrap_value(response\u001b[38;5;241m.\u001b[39mget(\u001b[38;5;124m\"\u001b[39m\u001b[38;5;124mvalue\u001b[39m\u001b[38;5;124m\"\u001b[39m, \u001b[38;5;28;01mNone\u001b[39;00m))\n\u001b[1;32m    349\u001b[0m     \u001b[38;5;28;01mreturn\u001b[39;00m response\n",
      "File \u001b[0;32m/opt/homebrew/anaconda3/lib/python3.9/site-packages/selenium/webdriver/remote/errorhandler.py:229\u001b[0m, in \u001b[0;36mErrorHandler.check_response\u001b[0;34m(self, response)\u001b[0m\n\u001b[1;32m    227\u001b[0m         alert_text \u001b[38;5;241m=\u001b[39m value[\u001b[38;5;124m\"\u001b[39m\u001b[38;5;124malert\u001b[39m\u001b[38;5;124m\"\u001b[39m]\u001b[38;5;241m.\u001b[39mget(\u001b[38;5;124m\"\u001b[39m\u001b[38;5;124mtext\u001b[39m\u001b[38;5;124m\"\u001b[39m)\n\u001b[1;32m    228\u001b[0m     \u001b[38;5;28;01mraise\u001b[39;00m exception_class(message, screen, stacktrace, alert_text)  \u001b[38;5;66;03m# type: ignore[call-arg]  # mypy is not smart enough here\u001b[39;00m\n\u001b[0;32m--> 229\u001b[0m \u001b[38;5;28;01mraise\u001b[39;00m exception_class(message, screen, stacktrace)\n",
      "\u001b[0;31mNoSuchElementException\u001b[0m: Message: no such element: Unable to locate element: {\"method\":\"css selector\",\"selector\":\"#query1\"}\n  (Session info: chrome=129.0.6668.90); For documentation on this error, please visit: https://www.selenium.dev/documentation/webdriver/troubleshooting/errors#no-such-element-exception\nStacktrace:\n0   chromedriver                        0x00000001030f4248 cxxbridge1$str$ptr + 1907280\n1   chromedriver                        0x00000001030ec730 cxxbridge1$str$ptr + 1875768\n2   chromedriver                        0x0000000102d00260 cxxbridge1$string$len + 89488\n3   chromedriver                        0x0000000102d4450c cxxbridge1$string$len + 368700\n4   chromedriver                        0x0000000102d7e7d0 cxxbridge1$string$len + 606976\n5   chromedriver                        0x0000000102d3912c cxxbridge1$string$len + 322652\n6   chromedriver                        0x0000000102d39d7c cxxbridge1$string$len + 325804\n7   chromedriver                        0x00000001030bc4d8 cxxbridge1$str$ptr + 1678560\n8   chromedriver                        0x00000001030c0e40 cxxbridge1$str$ptr + 1697352\n9   chromedriver                        0x00000001030a15ec cxxbridge1$str$ptr + 1568244\n10  chromedriver                        0x00000001030c1710 cxxbridge1$str$ptr + 1699608\n11  chromedriver                        0x0000000103092b90 cxxbridge1$str$ptr + 1508248\n12  chromedriver                        0x00000001030dd828 cxxbridge1$str$ptr + 1814576\n13  chromedriver                        0x00000001030dd980 cxxbridge1$str$ptr + 1814920\n14  chromedriver                        0x00000001030ec3d0 cxxbridge1$str$ptr + 1874904\n15  libsystem_pthread.dylib             0x00000001936d6f94 _pthread_start + 136\n16  libsystem_pthread.dylib             0x00000001936d1d34 thread_start + 8\n"
     ]
    }
   ],
   "source": [
    "driver.find_element(By.CSS_SELECTOR, '#query1')\n",
    "#오류 발생\n",
    "#NoSuchElementException 반환"
   ]
  },
  {
   "cell_type": "code",
   "execution_count": 7,
   "metadata": {},
   "outputs": [
    {
     "ename": "TimeoutException",
     "evalue": "Message: \nStacktrace:\n0   chromedriver                        0x00000001030f4248 cxxbridge1$str$ptr + 1907280\n1   chromedriver                        0x00000001030ec730 cxxbridge1$str$ptr + 1875768\n2   chromedriver                        0x0000000102d00260 cxxbridge1$string$len + 89488\n3   chromedriver                        0x0000000102d4450c cxxbridge1$string$len + 368700\n4   chromedriver                        0x0000000102d7e7d0 cxxbridge1$string$len + 606976\n5   chromedriver                        0x0000000102d3912c cxxbridge1$string$len + 322652\n6   chromedriver                        0x0000000102d39d7c cxxbridge1$string$len + 325804\n7   chromedriver                        0x00000001030bc4d8 cxxbridge1$str$ptr + 1678560\n8   chromedriver                        0x00000001030c0e40 cxxbridge1$str$ptr + 1697352\n9   chromedriver                        0x00000001030a15ec cxxbridge1$str$ptr + 1568244\n10  chromedriver                        0x00000001030c1710 cxxbridge1$str$ptr + 1699608\n11  chromedriver                        0x0000000103092b90 cxxbridge1$str$ptr + 1508248\n12  chromedriver                        0x00000001030dd828 cxxbridge1$str$ptr + 1814576\n13  chromedriver                        0x00000001030dd980 cxxbridge1$str$ptr + 1814920\n14  chromedriver                        0x00000001030ec3d0 cxxbridge1$str$ptr + 1874904\n15  libsystem_pthread.dylib             0x00000001936d6f94 _pthread_start + 136\n16  libsystem_pthread.dylib             0x00000001936d1d34 thread_start + 8\n",
     "output_type": "error",
     "traceback": [
      "\u001b[0;31m---------------------------------------------------------------------------\u001b[0m",
      "\u001b[0;31mTimeoutException\u001b[0m                          Traceback (most recent call last)",
      "Input \u001b[0;32mIn [7]\u001b[0m, in \u001b[0;36m<cell line: 5>\u001b[0;34m()\u001b[0m\n\u001b[1;32m      2\u001b[0m \u001b[38;5;28;01mfrom\u001b[39;00m \u001b[38;5;21;01mselenium\u001b[39;00m\u001b[38;5;21;01m.\u001b[39;00m\u001b[38;5;21;01mwebdriver\u001b[39;00m\u001b[38;5;21;01m.\u001b[39;00m\u001b[38;5;21;01msupport\u001b[39;00m \u001b[38;5;28;01mimport\u001b[39;00m expected_conditions \u001b[38;5;28;01mas\u001b[39;00m EC\n\u001b[1;32m      4\u001b[0m \u001b[38;5;66;03m#명시적 대기\u001b[39;00m\n\u001b[0;32m----> 5\u001b[0m element \u001b[38;5;241m=\u001b[39m \u001b[43mWebDriverWait\u001b[49m\u001b[43m(\u001b[49m\u001b[43mdriver\u001b[49m\u001b[43m,\u001b[49m\u001b[43m \u001b[49m\u001b[38;5;241;43m5\u001b[39;49m\u001b[43m)\u001b[49m\u001b[38;5;241;43m.\u001b[39;49m\u001b[43muntil\u001b[49m\u001b[43m(\u001b[49m\u001b[43mEC\u001b[49m\u001b[38;5;241;43m.\u001b[39;49m\u001b[43mpresence_of_element_located\u001b[49m\u001b[43m(\u001b[49m\u001b[43m(\u001b[49m\u001b[43mBy\u001b[49m\u001b[38;5;241;43m.\u001b[39;49m\u001b[43mCSS_SELECTOR\u001b[49m\u001b[43m,\u001b[49m\u001b[43m \u001b[49m\u001b[38;5;124;43m'\u001b[39;49m\u001b[38;5;124;43m#query1\u001b[39;49m\u001b[38;5;124;43m'\u001b[39;49m\u001b[43m)\u001b[49m\u001b[43m)\u001b[49m\u001b[43m)\u001b[49m\n",
      "File \u001b[0;32m/opt/homebrew/anaconda3/lib/python3.9/site-packages/selenium/webdriver/support/wait.py:105\u001b[0m, in \u001b[0;36mWebDriverWait.until\u001b[0;34m(self, method, message)\u001b[0m\n\u001b[1;32m    103\u001b[0m     \u001b[38;5;28;01mif\u001b[39;00m time\u001b[38;5;241m.\u001b[39mmonotonic() \u001b[38;5;241m>\u001b[39m end_time:\n\u001b[1;32m    104\u001b[0m         \u001b[38;5;28;01mbreak\u001b[39;00m\n\u001b[0;32m--> 105\u001b[0m \u001b[38;5;28;01mraise\u001b[39;00m TimeoutException(message, screen, stacktrace)\n",
      "\u001b[0;31mTimeoutException\u001b[0m: Message: \nStacktrace:\n0   chromedriver                        0x00000001030f4248 cxxbridge1$str$ptr + 1907280\n1   chromedriver                        0x00000001030ec730 cxxbridge1$str$ptr + 1875768\n2   chromedriver                        0x0000000102d00260 cxxbridge1$string$len + 89488\n3   chromedriver                        0x0000000102d4450c cxxbridge1$string$len + 368700\n4   chromedriver                        0x0000000102d7e7d0 cxxbridge1$string$len + 606976\n5   chromedriver                        0x0000000102d3912c cxxbridge1$string$len + 322652\n6   chromedriver                        0x0000000102d39d7c cxxbridge1$string$len + 325804\n7   chromedriver                        0x00000001030bc4d8 cxxbridge1$str$ptr + 1678560\n8   chromedriver                        0x00000001030c0e40 cxxbridge1$str$ptr + 1697352\n9   chromedriver                        0x00000001030a15ec cxxbridge1$str$ptr + 1568244\n10  chromedriver                        0x00000001030c1710 cxxbridge1$str$ptr + 1699608\n11  chromedriver                        0x0000000103092b90 cxxbridge1$str$ptr + 1508248\n12  chromedriver                        0x00000001030dd828 cxxbridge1$str$ptr + 1814576\n13  chromedriver                        0x00000001030dd980 cxxbridge1$str$ptr + 1814920\n14  chromedriver                        0x00000001030ec3d0 cxxbridge1$str$ptr + 1874904\n15  libsystem_pthread.dylib             0x00000001936d6f94 _pthread_start + 136\n16  libsystem_pthread.dylib             0x00000001936d1d34 thread_start + 8\n"
     ]
    }
   ],
   "source": [
    "from selenium.webdriver.support.ui import WebDriverWait\n",
    "from selenium.webdriver.support import expected_conditions as EC\n",
    "\n",
    "#명시적 대기\n",
    "element = WebDriverWait(driver, 5).until(\n",
    "    EC.presence_of_element_located((By.CSS_SELECTOR, '#query1'))\n",
    "    )\n",
    "#5초 동안 찾고 이후에도 못 찾으면 TimeoutException을 반환"
   ]
  },
  {
   "cell_type": "code",
   "execution_count": null,
   "metadata": {},
   "outputs": [],
   "source": []
  }
 ],
 "metadata": {
  "kernelspec": {
   "display_name": "base",
   "language": "python",
   "name": "python3"
  },
  "language_info": {
   "codemirror_mode": {
    "name": "ipython",
    "version": 3
   },
   "file_extension": ".py",
   "mimetype": "text/x-python",
   "name": "python",
   "nbconvert_exporter": "python",
   "pygments_lexer": "ipython3",
   "version": "3.9.12"
  }
 },
 "nbformat": 4,
 "nbformat_minor": 2
}
