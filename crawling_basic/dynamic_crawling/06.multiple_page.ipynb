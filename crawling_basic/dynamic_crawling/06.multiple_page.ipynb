{
 "cells": [
  {
   "cell_type": "markdown",
   "metadata": {},
   "source": [
    "### iframe /새로운 창 관리\n",
    "#### iframe\n",
    "페이지 내에 다른 페이지가 있는 경우이다.\n",
    "- 메인페이지 안에 서브페이지가 있는 경우 웹 드라이버는 안쪽에 있는 서브페이지를 제어할 수 없음.\n",
    "    - 웹 드라이버는 한번에 하나의 페이지만 제어할 수 있기 때문.\n",
    "    - 서브 페이지를 바라볼 수 있도록 드라이버를 전환시켜 준 다음에 서브페이지를 제어해야한다.\n",
    "#### 새로운 창\n",
    "새 창으로, 다른 페이지 하나가 열린 경우\n",
    "- `driver.window_handles`를 활용해서 페이지 목록을 불러옴\n",
    "- 웹 드라이버 switch를 이용해서 이동"
   ]
  },
  {
   "cell_type": "code",
   "execution_count": null,
   "metadata": {},
   "outputs": [],
   "source": [
    "from selenium import webdriver\n",
    "from selenium.webdriver.common.by import By\n",
    "from selenium.webdriver.common.keys import Keys\n",
    "driver =webdriver.Chrome()\n",
    "driver.get('https://finance.naver.com/research/company_list.naver')\n",
    "\n",
    "iframe = driver.find_element(By.CSS_SELECTOR, 'iframe 태그 선택자')\n",
    "\n"
   ]
  },
  {
   "cell_type": "code",
   "execution_count": null,
   "metadata": {},
   "outputs": [],
   "source": [
    "#드라이버 전환\n",
    "driver.switch_to.frame(iframe)\n",
    "#서브페이지를 바라보게 만듬\n",
    "# 랑라이버 전환이 정상적으로 되면, 서브페이지의 태그를 찾고 제어할 수 있게 됨.\n",
    "\n",
    "#원래 페이지 전환\n",
    "driver.switch_to.default_content()\n",
    "#드라이버가 메인 페이지를 바라보게 만든다.\n",
    "#전환이 정상적으로 되면, 메인 페이지의 태그를 찾고 제어할 수 있게 된다."
   ]
  },
  {
   "cell_type": "code",
   "execution_count": null,
   "metadata": {},
   "outputs": [],
   "source": [
    "#현재 드라이버가 가지고 있는 창 목록\n",
    "driver.window_handles\n",
    "#현재 드라이버에 열려있는 창의 목록을 리스트 형태로 반환\n",
    "\n",
    "#새로운 창으로 전환\n",
    "driver.switch_to.window(driver.window_handles[인덱스])\n",
    "#드라이버가 해당 창을 바라볼 수 있도록 전환시켜 준다."
   ]
  }
 ],
 "metadata": {
  "language_info": {
   "name": "python"
  }
 },
 "nbformat": 4,
 "nbformat_minor": 2
}
