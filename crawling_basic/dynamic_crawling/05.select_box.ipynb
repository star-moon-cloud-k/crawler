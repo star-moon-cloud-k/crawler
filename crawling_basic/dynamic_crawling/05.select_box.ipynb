{
 "cells": [
  {
   "cell_type": "markdown",
   "metadata": {},
   "source": [
    "# 드롭다운 셀렉트 박스\n",
    "- Select 클래스 사용\n",
    "- CSS 선택자로 드롭다운을 제어하면 순서가 바뀌면 기능이 바뀐다"
   ]
  },
  {
   "cell_type": "markdown",
   "metadata": {},
   "source": [
    "```python\n",
    "from selelium.webdriver.support.ui import Select\n",
    "select = Select(driver.find_element(By.CSS_SELECTOR, '셀렉트박스 선택자'))\n",
    "\n",
    "select.select_by_index(1)\n",
    "# 인덱스 번호로 옵션 선택\n",
    "select.select_by_value('55')\n",
    "#value 속성값으로 선택 _ 반드시 문자열 형태로 전달해야함.\n",
    "select.selct_by_visible_text('KB증권')\n",
    "#보이는 텍스트를 기반으로 검색\n",
    "```"
   ]
  },
  {
   "cell_type": "code",
   "execution_count": 1,
   "metadata": {},
   "outputs": [],
   "source": [
    "from selenium import webdriver\n",
    "from selenium.webdriver.common.by import By\n",
    "from selenium.webdriver.common.keys import Keys\n",
    "driver =webdriver.Chrome()\n",
    "driver.get('https://finance.naver.com/research/company_list.naver')\n",
    "\n"
   ]
  },
  {
   "cell_type": "code",
   "execution_count": 2,
   "metadata": {},
   "outputs": [],
   "source": [
    "select_tags = driver.find_element(By.CSS_SELECTOR, '#contentarea_left > form > fieldset > ul > li:nth-child(2) > select')"
   ]
  },
  {
   "cell_type": "code",
   "execution_count": 3,
   "metadata": {},
   "outputs": [],
   "source": [
    "from selenium.webdriver.support.select import Select"
   ]
  },
  {
   "cell_type": "code",
   "execution_count": 4,
   "metadata": {},
   "outputs": [],
   "source": [
    "#index 선택\n",
    "Select(select_tags).select_by_index(1)"
   ]
  },
  {
   "cell_type": "code",
   "execution_count": 6,
   "metadata": {},
   "outputs": [],
   "source": [
    "#value선택\n",
    "Select(select_tags).select_by_value('55')"
   ]
  },
  {
   "cell_type": "code",
   "execution_count": 7,
   "metadata": {},
   "outputs": [],
   "source": [
    "#보이는 텍스트로 선택\n",
    "Select(select_tags).select_by_visible_text('NH투자증권')"
   ]
  }
 ],
 "metadata": {
  "kernelspec": {
   "display_name": "base",
   "language": "python",
   "name": "python3"
  },
  "language_info": {
   "codemirror_mode": {
    "name": "ipython",
    "version": 3
   },
   "file_extension": ".py",
   "mimetype": "text/x-python",
   "name": "python",
   "nbconvert_exporter": "python",
   "pygments_lexer": "ipython3",
   "version": "3.9.12"
  }
 },
 "nbformat": 4,
 "nbformat_minor": 2
}
