{
 "cells": [
  {
   "cell_type": "code",
   "execution_count": null,
   "metadata": {},
   "outputs": [],
   "source": []
  },
  {
   "cell_type": "markdown",
   "metadata": {},
   "source": [
    "#### 동일한 부모를 가진 요소들 중에서 특정 요소를 선택하는데 사용\n",
    "\n",
    "### 인접 형제 선택자 : A+B\n",
    "- A를 먼저 선택하고, B를 선택\n",
    "- B를 선택하기 위해 접근이 가능한 같은 형제로 있는 A에 접근하고, 바로 다음에 있는 형제 B를 선택하는 방식\n",
    "### 일반 형제 선택자 : A~B\n",
    "- A를 먼저 선택하고, 모든 형제들 중에 B를 선택\n",
    "- B를 선택하기 위해 A를 선택하고, A다음에 오는 B에 해당되는 모든 형제를 가져온다."
   ]
  },
  {
   "cell_type": "markdown",
   "metadata": {},
   "source": [
    "### :nth-of-type() 선택자\n",
    "특정 유형(type)의 요소 중 특정 순서에 해당하는 요소를 선택할 떄 사용\n",
    "- div.main > a:nth-of-type(3)\n",
    "    - class가 main인 div에서  a인데, 3번째 자식 을 선택\n",
    "- div.main > a:nth-of-type(even)\n",
    "    - class가 main인 div에서  a인데, 짝수 번째에 있는 자식 선택\n",
    "- div.main > a:nth-of-type(2n+1)\n",
    "    - class가 main인 div에서 2의 배수 +1 번째에 있는 자식 선택\n",
    "    - 수식도 넣어서 사용이 가능하다."
   ]
  },
  {
   "cell_type": "markdown",
   "metadata": {},
   "source": [
    "### :not(X) 선택자\n",
    "특정 선택자 (X)와 매칭되지 않는 요소를 선택할 떄 사용\n",
    "\n",
    "a:not(#fancy)\n",
    "- id가 fancy인 a는 제외\n",
    "div:not(.big,.medium)\n",
    "- class가 big이거나 medium인 div는 제외"
   ]
  },
  {
   "cell_type": "markdown",
   "metadata": {},
   "source": [
    "### 속성 선택자\n",
    "특정 속성을 기준으로 HTML 요소를 선택할때 사용\n",
    "\n",
    "div['attribute']\n",
    "- 기본 속성 선택자\n",
    "\n",
    "div[for='value']\n",
    "- 특정 값이 있는 속성 선택자\n",
    "\n",
    "[for^='value']\n",
    "- 특정 값으로 시작되는 속성 선택자\n",
    "\n",
    "[for$='value']\n",
    "- 특정 값으로 끝나는 속성 선택자\n",
    "\n",
    "[for*='value']\n",
    "- 특정 값을 포함하는 속성 선택자\n",
    "\n"
   ]
  }
 ],
 "metadata": {
  "language_info": {
   "name": "python"
  }
 },
 "nbformat": 4,
 "nbformat_minor": 2
}
